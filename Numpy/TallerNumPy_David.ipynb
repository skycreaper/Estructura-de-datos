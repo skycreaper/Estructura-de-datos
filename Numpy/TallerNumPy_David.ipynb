{
 "cells": [
  {
   "cell_type": "markdown",
   "metadata": {},
   "source": [
    "**Datos del estudiante**:\n",
    "* Nombre: David Steven Santos Santos\n",
    "* Código: 20152020076\n",
    "* Proyecto Curricular: Ingeniería de Sistemas\n",
    "\n",
    "# NumPY\n",
    "## 1. Resumen\n",
    "* **¿Qué hace la librería?**\n",
    "\n",
    "Numpy es una librería de código abierto desarrollado por la comunidad su objetivo se basa en los arreglos multidimensionales, esto con la intención de mejorar las listas y tuplas que python ofrece, sus ventajas son la eficiencia en operaciones complejas en el uso de estos arreglos.\n",
    "\n",
    "* **¿Qué usos se le da en el ambiente científico?**\n",
    "\n",
    "Debido a que es una librería de computación científica, se puede aplicar en matemáticas en los temas como, álgebra lineal (matrices y vectores),Números complejos (transformadas de Fourier), Generacion de numeros pseudoaleatorios, con respecto a este tema se podría decir que sí es estadísticamente la generación de estos números muy buena, se podría implementar en criptografía.\n",
    "\n",
    "* **Historia**\n",
    "\n",
    "Al principio hubo la librería Numeric. Originalmente fue escrito en 1995 en gran parte por Jim Hugunin con la ayuda de muchas personas, entre ellas Jim Fulton, David Ascher, Paul DuBois y Konrad Hinsen. Desafortunadamente, Numeric adquirió varios apodos: Numerical Python, Numerical, NumPy. Por ejemplo, el nombre del proyecto de SourceForge es numpy, el antiguo módulo CVS es Numerical, Konrad Hinsen llamó a su paquete ScientificPython en referencia a Numerical Python. A principios de 2005, Travis Oliphant quería reunir a la comunidad en un solo paquete de arreglos. Adecuo el código de Numeric y lo hizo más robusto y flexible, a lo cual llevó a que creara el proyecto Scipy y consigo la consolidación de NumPy.\n",
    "\n",
    "* **Describir 3 funciones/operaciones que no se hayan mencionado en la sesión presencial**\n",
    "\n",
    "No asistí a la clase presencial pero me baso en el documento Sesión 2 de pygroup:\n",
    "aprendiendo NumPy.\n",
    "\n",
    "* Las operaciones con string: Este módulo proporciona un conjunto de operaciones de cadena vectorizadas para matrices de tipo numpy.string_ onumpy.unicode_. Todos ellos se basan en los métodos de cadena en la biblioteca estándar de Python. Como ejemplo se puede ver el siguiente método.\n",
    "    * numpy.core.defchararray.encode. codifica un arreglo con respecto a una codificación estandár.\n",
    "* Programación Funcional: esta librería soporta el paradigma de la programación funcional, una de sus funciones es.\n",
    "    * numpy.frompyfunc : toma una función normal de python y la convierte en una función de NumPy ufunc.\n",
    "* Polinomios: Los polinomios en NumPy se pueden crear, manipular e incluso ajustar. uno de sus métodos es.\n",
    "    * hallar el dominio del polinomio con numpy.polinomial.domain\n"
   ]
  },
  {
   "cell_type": "markdown",
   "metadata": {},
   "source": [
    "## 2. Ejercicios\n",
    "1. Realizar los \"Ejercicios Rápidos\" que están en el Cuaderno de la sesión N° 2\n",
    "http://aulas.aprendiendoaprogramar.com/file.php/75/Sesion_2_Pygroup.htm\n",
    "1. Escriba un programa para crear un arreglo de dimensión 10x4 y extraiga las primeras 3 filas de ese arreglo y guardelas en una variable llamada slice \n",
    "1. Escriba un programa donde declare dos vectores (Arreglos unidimensionales) con valores aleatorios y luego use una función de la libreria para verificar si esos dos vectores son iguales.\n",
    "1. Cree una matriz de 6x6 cuya diagonal sea [1,2,3,4,5,6] e imprima la matriz\n",
    "1. nvestigue el método dot de la libreria Numpy y realice una multiplicación de matrices. La primera matriz debe ser de tamaño 5x3 y la otra matriz de 3x2"
   ]
  },
  {
   "cell_type": "markdown",
   "metadata": {},
   "source": [
    "**Desarrollo**:\n",
    "    1. Ejercicios Rápidos"
   ]
  },
  {
   "cell_type": "code",
   "execution_count": 12,
   "metadata": {
    "scrolled": false
   },
   "outputs": [
    {
     "name": "stdout",
     "output_type": "stream",
     "text": [
      "*****************************************************************************************************************************\n",
      "EJERCICIOS NUMPY PRIMER PUNTO\n",
      "matriz: \n",
      " [[  34   23  546  788]\n",
      " [  12 1099  434  214]\n",
      " [1234 5454 6466 2323]\n",
      " [2332  657  896   53]]\n",
      "indice del elemento: \n",
      " 5454\n",
      "filas pares y todas sus columnas: \n",
      " [[  34   23  546  788]\n",
      " [1234 5454 6466 2323]]\n",
      "matriz B: \n",
      " [ 0  1  2  3  4  5  6  7  8  9 10 11]\n",
      "Raiz cuadrada de la matrizB: \n",
      " [[0.         1.         1.41421356 1.73205081]\n",
      " [2.         2.23606798 2.44948974 2.64575131]\n",
      " [2.82842712 3.         3.16227766 3.31662479]]\n",
      "Matriz de 4x4: \n",
      " [[1.6798e-322 1.1364e-322 2.6976e-321 3.8932e-321]\n",
      " [5.9288e-323 5.4298e-321 2.1442e-321 1.0573e-321]\n",
      " [6.0968e-321 2.6946e-320 3.1946e-320 1.1477e-320]\n",
      " [1.1522e-320 3.2460e-321 4.4268e-321 2.6185e-322]]\n",
      "Matriz transpuesta: \n",
      " [[1.6798e-322 5.9288e-323 6.0968e-321 1.1522e-320]\n",
      " [1.1364e-322 5.4298e-321 2.6946e-320 3.2460e-321]\n",
      " [2.6976e-321 2.1442e-321 3.1946e-320 4.4268e-321]\n",
      " [3.8932e-321 1.0573e-321 1.1477e-320 2.6185e-322]]\n"
     ]
    }
   ],
   "source": [
    "#!/usr/bin/env python\n",
    "# -*- coding: utf-8 -*-\n",
    "\"\"\"\n",
    "@author: David Steven Santos Santos\n",
    "codigo: 20152020076\n",
    "Ingenieria de sistemas\n",
    "version: 3.7.3\n",
    "\"\"\"\n",
    "import numpy as np\n",
    "print(\"*****************************************************************************************************************************\")\n",
    "print(\"EJERCICIOS NUMPY PRIMER PUNTO\")\n",
    "matrizPrueba = np.array([ [34,23,546,788],[12,1099,434,214],[1234,5454,6466,2323],[2332,657,896,53] ])\n",
    "print(\"matriz: \\n {}\".format(matrizPrueba) )\n",
    "#¿Cuál es el índice para el elemento 5454?\n",
    "print(\"indice del elemento: \\n {}\".format(matrizPrueba[2,1]) )\n",
    "#\"Rebane\" la matriz matrizPrueba de forma que seleccione las filas pares y todas sus columnas\n",
    "print(\"filas pares y todas sus columnas: \\n {}\".format(matrizPrueba[0::2]) ) #start:stop:step considerando que se cuenta desde 0\n",
    "matrizA = np.arange(12)\n",
    "matrizB = np.arange(12)\n",
    "print(\"matriz B: \\n {}\".format(matrizB) )\n",
    "#Sacar la raíz cuadrada de los valores de la matriz B\n",
    "print(\"Raiz cuadrada de la matrizB: \\n {}\".format(np.sqrt(matrizB).reshape((3,4))) )\n",
    "#Cree una matriz de 4x4 y haga su transpuesta\n",
    "matriz4b4 = np.empty((4, 4))\n",
    "print(\"Matriz de 4x4: \\n {}\".format(matriz4b4))\n",
    "print(\"Matriz transpuesta: \\n {}\".format(np.transpose(matriz4b4)) )"
   ]
  },
  {
   "cell_type": "markdown",
   "metadata": {},
   "source": [
    "    2. Segundo Punto"
   ]
  },
  {
   "cell_type": "code",
   "execution_count": 3,
   "metadata": {},
   "outputs": [
    {
     "name": "stdout",
     "output_type": "stream",
     "text": [
      "*****************************************************************************************************************************\n",
      "EJERCICIOS NUMPY SEGUNDO PUNTO\n",
      "matriz 10x4: \n",
      " [[2.14528411e-314 2.14605215e-314 2.14543514e-314 2.14538939e-314]\n",
      " [2.15009401e-314 2.14709665e-314 2.15323068e-314 2.14839877e-314]\n",
      " [2.17941363e-314 2.15129326e-314 2.14471625e-314 2.14528425e-314]\n",
      " [2.14542072e-314 2.14530532e-314 2.17937905e-314 2.14530543e-314]\n",
      " [2.14787358e-314 2.14541909e-314 2.14684493e-314 2.14528364e-314]\n",
      " [2.14541878e-314 2.14546902e-314 2.14471449e-314 2.17211043e-314]\n",
      " [2.14540159e-314 2.14530648e-314 2.14530651e-314 2.17941377e-314]\n",
      " [2.14607920e-314 2.14528383e-314 2.14541870e-314 2.14541845e-314]\n",
      " [2.14608502e-314 2.17937914e-314 2.14540179e-314 2.14548221e-314]\n",
      " [2.17937918e-314 2.14541862e-314 2.17937921e-314 2.17937924e-314]]\n",
      "slice: \n",
      " [[2.14528411e-314 2.14605215e-314 2.14543514e-314 2.14538939e-314]\n",
      " [2.15009401e-314 2.14709665e-314 2.15323068e-314 2.14839877e-314]\n",
      " [2.17941363e-314 2.15129326e-314 2.14471625e-314 2.14528425e-314]]\n"
     ]
    }
   ],
   "source": [
    "#!/usr/bin/env python\n",
    "# -*- coding: utf-8 -*-\n",
    "\"\"\"\n",
    "@author: David Steven Santos Santos\n",
    "codigo: 20152020076\n",
    "Ingenieria de sistemas\n",
    "version: 3.7.3\n",
    "\"\"\"\n",
    "import numpy as np\n",
    "print(\"*****************************************************************************************************************************\")\n",
    "print(\"EJERCICIOS NUMPY SEGUNDO PUNTO\")\n",
    "#Escriba un programa para crear un arreglo de dimensión 10x4 y extraiga las primeras 3 filas de ese arreglo y guardelas en una variable llamada slice\n",
    "matriz = np.empty((10, 4))\n",
    "print(\"matriz 10x4: \\n {}\".format(matriz) )\n",
    "sliceVar = matriz[0:3:]  #debido a que slice es una palabra reservada de python lo llamo sliceVar\n",
    "print(\"slice: \\n {}\".format(sliceVar) )"
   ]
  },
  {
   "cell_type": "markdown",
   "metadata": {},
   "source": [
    "    3. Tercer Punto"
   ]
  },
  {
   "cell_type": "code",
   "execution_count": 5,
   "metadata": {},
   "outputs": [
    {
     "name": "stdout",
     "output_type": "stream",
     "text": [
      "*****************************************************************************************************************************\n",
      "EJERCICIOS NUMPY TERCER PUNTO\n",
      "Vector 1: \n",
      " [0.81678825 0.62180314 0.68095548 0.88988669 0.98888572 0.65665788\n",
      " 0.69089036 0.07208006 0.91380836 0.67403651 0.06479564 0.70434673\n",
      " 0.36286875 0.72837761 0.63055056]\n",
      "Vector 2: \n",
      " [0.4278893  0.59551068 0.24694527 0.83554374 0.07249792 0.07669931\n",
      " 0.08500272 0.96529517 0.74528793 0.33164283 0.57482586 0.9208082\n",
      " 0.44466603 0.86577098 0.03948904]\n",
      "son iguales: False\n"
     ]
    }
   ],
   "source": [
    "#!/usr/bin/env python\n",
    "# -*- coding: utf-8 -*-\n",
    "\"\"\"\n",
    "@author: David Steven Santos Santos\n",
    "codigo: 20152020076\n",
    "Ingenieria de sistemas\n",
    "version: 3.7.3\n",
    "\"\"\"\n",
    "import numpy as np\n",
    "print(\"*****************************************************************************************************************************\")\n",
    "print(\"EJERCICIOS NUMPY TERCER PUNTO\")\n",
    "#haga 2 arreglos unidimensionales con valores aleatorios y determinen si son iguales\n",
    "vector1 = np.random.rand(15)\n",
    "vector2 = np.random.rand(15)\n",
    "print(\"Vector 1: \\n {}\".format(vector1) )\n",
    "print(\"Vector 2: \\n {}\".format(vector2) )\n",
    "print(\"son iguales: %s\" %np.array_equal(vector1, vector2) )"
   ]
  },
  {
   "cell_type": "markdown",
   "metadata": {},
   "source": [
    "    4. Cuarto punto"
   ]
  },
  {
   "cell_type": "code",
   "execution_count": 6,
   "metadata": {},
   "outputs": [
    {
     "name": "stdout",
     "output_type": "stream",
     "text": [
      "*****************************************************************************************************************************\n",
      "EJERCICIOS NUMPY CUARTO PUNTO\n",
      "matriz 6x6: \n",
      " [[1 0 0 0 0 0]\n",
      " [0 2 0 0 0 0]\n",
      " [0 0 3 0 0 0]\n",
      " [0 0 0 4 0 0]\n",
      " [0 0 0 0 5 0]\n",
      " [0 0 0 0 0 6]]\n"
     ]
    }
   ],
   "source": [
    "#!/usr/bin/env python\n",
    "# -*- coding: utf-8 -*-\n",
    "\"\"\"\n",
    "@author: David Steven Santos Santos\n",
    "codigo: 20152020076\n",
    "Ingenieria de sistemas\n",
    "version: 3.7.3\n",
    "\"\"\"\n",
    "import numpy as np\n",
    "print(\"*****************************************************************************************************************************\")\n",
    "print(\"EJERCICIOS NUMPY CUARTO PUNTO\")\n",
    "#cree una matriz 6x6 cuya diagonal sea [1,2,3,4,5,6] e imprima una matriz\n",
    "diagonal = np.diagflat([[1, 2], [3, 4], [5, 6]])\n",
    "print(\"matriz 6x6: \\n {}\".format(diagonal) )"
   ]
  },
  {
   "cell_type": "markdown",
   "metadata": {},
   "source": [
    "    5. Quinto punto"
   ]
  },
  {
   "cell_type": "code",
   "execution_count": 1,
   "metadata": {},
   "outputs": [
    {
     "name": "stdout",
     "output_type": "stream",
     "text": [
      "*****************************************************************************************************************************\n",
      "EJERCICIOS NUMPY QUINTO PUNTO\n",
      "matriz 5x3: \n",
      " [[0.75526215 0.54835422 0.76086983]\n",
      " [0.49601761 0.70343004 0.93556508]\n",
      " [0.63024897 0.58252416 0.32282289]\n",
      " [0.15505654 0.88400894 0.57901398]\n",
      " [0.5279608  0.4655825  0.9005502 ]]\n",
      "matriz 3x2: \n",
      " [[0.52971024 0.098775  ]\n",
      " [0.29117186 0.80128177]\n",
      " [0.94494312 0.28779334]]\n",
      "dot: \n",
      " [[1.27871413 0.73296053]\n",
      " [1.35162043 0.8818892 ]\n",
      " [0.80851324 0.62192511]\n",
      " [0.88666884 0.89029232]\n",
      " [1.26619947 0.68438444]]\n"
     ]
    }
   ],
   "source": [
    "#!/usr/bin/env python\n",
    "# -*- coding: utf-8 -*-\n",
    "\"\"\"\n",
    "@author: David Steven Santos Santos\n",
    "codigo: 20152020076\n",
    "Ingenieria de sistemas\n",
    "version: 3.7.3\n",
    "\"\"\"\n",
    "import numpy as np\n",
    "print(\"*****************************************************************************************************************************\")\n",
    "print(\"EJERCICIOS NUMPY QUINTO PUNTO\")\n",
    "#realice una multiplicacion de matrices entre una matriz 5x3 y una matriz 3x2\n",
    "m5x3 = np.random.rand(5, 3)\n",
    "m3x2 = np.random.rand(3, 2)\n",
    "print(\"matriz 5x3: \\n {}\".format(m5x3) )\n",
    "print(\"matriz 3x2: \\n {}\".format(m3x2) )\n",
    "dot = np.dot(m5x3,m3x2)\n",
    "print(\"dot: \\n {}\".format(dot) )"
   ]
  }
 ],
 "metadata": {
  "kernelspec": {
   "display_name": "Python 3",
   "language": "python",
   "name": "python3"
  },
  "language_info": {
   "codemirror_mode": {
    "name": "ipython",
    "version": 3
   },
   "file_extension": ".py",
   "mimetype": "text/x-python",
   "name": "python",
   "nbconvert_exporter": "python",
   "pygments_lexer": "ipython3",
   "version": "3.7.3"
  }
 },
 "nbformat": 4,
 "nbformat_minor": 2
}
